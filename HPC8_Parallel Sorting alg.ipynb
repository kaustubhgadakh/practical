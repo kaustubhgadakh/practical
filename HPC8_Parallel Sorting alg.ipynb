{
 "cells": [
  {
   "cell_type": "code",
   "execution_count": 1,
   "metadata": {},
   "outputs": [],
   "source": [
    "import random\n",
    "import time\n",
    "from datetime import datetime"
   ]
  },
  {
   "cell_type": "code",
   "execution_count": 18,
   "metadata": {},
   "outputs": [],
   "source": [
    "def bubble_sort(arr):\n",
    "    n = len(arr)\n",
    "    for i in range(n):\n",
    "        for j in range(n-1):\n",
    "            if arr[j] >arr[j+1]:\n",
    "                arr[j],arr[j+1] = arr[j+1],arr[j]"
   ]
  },
  {
   "cell_type": "code",
   "execution_count": 19,
   "metadata": {},
   "outputs": [],
   "source": [
    "def main():\n",
    "    a = [random.randint(0,1000) for _ in range(1000)]\n",
    "    start = datetime.now()\n",
    "    bubble_sort(a)\n",
    "    end = datetime.now()\n",
    "    duration = end - start\n",
    "    print(\"Serial : \", duration)\n",
    "\n",
    "    a = [random.randint(0,1000) for _ in range(1000)]\n",
    "    start = datetime.now()\n",
    "    for i in range(len(a)):\n",
    "        first = i% 2\n",
    "        for j in range(first,len(a)-1,2):\n",
    "            if a[j] > a[j+1]:\n",
    "                a[j], a[j+1] = a[j+1], a[j]\n",
    "    \n",
    "    end = datetime.now()\n",
    "    duration = end - start\n",
    "    print(\"Parallel : \", duration)\n"
   ]
  },
  {
   "cell_type": "code",
   "execution_count": 20,
   "metadata": {},
   "outputs": [
    {
     "name": "stdout",
     "output_type": "stream",
     "text": [
      "Serial :  0:00:00.265043\n",
      "Parallel :  0:00:00.160927\n"
     ]
    }
   ],
   "source": [
    "if __name__ == \"__main__\":\n",
    "    main()"
   ]
  },
  {
   "cell_type": "code",
   "execution_count": null,
   "metadata": {},
   "outputs": [],
   "source": [
    "or"
   ]
  },
  {
   "cell_type": "code",
   "execution_count": null,
   "metadata": {},
   "outputs": [],
   "source": [
    "import concurrent.futures\n",
    "import time\n",
    "def merge(a, i1, j1, i2, j2):\n",
    " temp = []\n",
    " i, j = i1, i2\n",
    " while i <= j1 and j <= j2:\n",
    " temp.append(a[i] if a[i] < a[j] else a[j])\n",
    " i, j = (i + 1, j) if a[i] < a[j] else (i, j + 1)\n",
    " temp.extend(a[i: j1 + 1])\n",
    " temp.extend(a[j: j2 + 1])\n",
    " a[i1: j2 + 1] = temp\n",
    "def mergesort(a, i, j):\n",
    " if i < j:\n",
    " mid = (i + j) // 2\n",
    " with concurrent.futures.ThreadPoolExecutor() as executor:\n",
    "    future1 = executor.submit(mergesort, a, i, mid)\n",
    "    future2 = executor.submit(mergesort, a, mid + 1, j)\n",
    "    future1.result()\n",
    "    future2.result()\n",
    "    merge(a, i, mid, mid + 1, j)\n",
    "if _name_ == \"_main_\":\n",
    " a = [3,44,38,5,47,15,36,26,27,2,46,4,19,1,50,48]\n",
    " start_p=time.time()\n",
    " mergesort(a, 0, len(a) - 1)\n",
    " end_p=time.time()\n",
    " print(\"Sorted array is:\")\n",
    " for element in a:\n",
    "     print(element)\n",
    " print(\"Execution time:\", end_p-start_p, \"seconds\")\n"
   ]
  }
 ],
 "metadata": {
  "kernelspec": {
   "display_name": "Python 3.9.1 64-bit",
   "language": "python",
   "name": "python3"
  },
  "language_info": {
   "codemirror_mode": {
    "name": "ipython",
    "version": 3
   },
   "file_extension": ".py",
   "mimetype": "text/x-python",
   "name": "python",
   "nbconvert_exporter": "python",
   "pygments_lexer": "ipython3",
   "version": "3.9.1"
  },
  "orig_nbformat": 4,
  "vscode": {
   "interpreter": {
    "hash": "18778d26e07f5cf51433672e0dce97692ca0a2fce0f52f31686447156d36a51f"
   }
  }
 },
 "nbformat": 4,
 "nbformat_minor": 2
}
